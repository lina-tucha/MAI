{
  "nbformat": 4,
  "nbformat_minor": 0,
  "metadata": {
    "colab": {
      "name": "Lab1.ipynb",
      "provenance": [],
      "collapsed_sections": []
    },
    "kernelspec": {
      "name": "python3",
      "display_name": "Python 3"
    },
    "language_info": {
      "name": "python"
    },
    "accelerator": "GPU"
  },
  "cells": [
    {
      "cell_type": "code",
      "source": [
        "import pandas as pd\n",
        "import pickle\n",
        "import numpy as np\n",
        "from collections import Counter\n",
        "from sklearn.model_selection import train_test_split, GridSearchCV\n",
        "from sklearn.pipeline import Pipeline\n",
        "from sklearn.naive_bayes import GaussianNB\n",
        "import matplotlib.pyplot as plt\n",
        "from sklearn.utils.validation import check_is_fitted, check_X_y\n",
        "from sklearn.base import BaseEstimator, ClassifierMixin\n",
        "from sklearn.preprocessing import StandardScaler\n",
        "from sklearn.metrics import accuracy_score, euclidean_distances, confusion_matrix, roc_auc_score, precision_score, recall_score, RocCurveDisplay, ConfusionMatrixDisplay"
      ],
      "metadata": {
        "id": "CPwzSdxqnRcm"
      },
      "execution_count": 34,
      "outputs": []
    },
    {
      "cell_type": "code",
      "source": [
        "not_clean = pd.read_csv(\"/content/cardio_train.csv\") \n",
        "heart_disease_data = not_clean.iloc[:,0].apply(lambda x: pd.Series(str(x).split(\";\")))\n",
        "heart_disease_data.columns = [\"id\",\"age\",\"gender\",\"height\",\"weight\",\"ap_hi\",\"ap_lo\",\"cholesterol\",\"gluc\",\"smoke\",\"alco\",\"active\",'cardio']"
      ],
      "metadata": {
        "id": "H5QPY_kb6AVq"
      },
      "execution_count": 3,
      "outputs": []
    },
    {
      "cell_type": "code",
      "source": [
        "heart_disease_data.shape"
      ],
      "metadata": {
        "colab": {
          "base_uri": "https://localhost:8080/"
        },
        "id": "9_i420GY6y49",
        "outputId": "fff2c897-1aae-40c3-b461-64c5162e0a6b"
      },
      "execution_count": null,
      "outputs": [
        {
          "output_type": "execute_result",
          "data": {
            "text/plain": [
              "(69301, 13)"
            ]
          },
          "metadata": {},
          "execution_count": 3
        }
      ]
    },
    {
      "cell_type": "code",
      "source": [
        "heart_disease_data.head()"
      ],
      "metadata": {
        "colab": {
          "base_uri": "https://localhost:8080/",
          "height": 206
        },
        "id": "rBMSyf6h6NZN",
        "outputId": "490197ef-3efc-403c-897b-786cbbd5fb30"
      },
      "execution_count": null,
      "outputs": [
        {
          "output_type": "execute_result",
          "data": {
            "text/plain": [
              "    id    age gender height weight ap_hi ap_lo cholesterol gluc smoke alco  \\\n",
              "0  988  22469      1    155   69.0   130    80           2    2     0    0   \n",
              "1  989  14648      1    163   71.0   110    70           1    1     0    0   \n",
              "2  990  21901      1    165   70.0   120    80           1    1     0    0   \n",
              "3  991  14549      2    165   85.0   120    80           1    1     1    1   \n",
              "4  992  23393      1    155   62.0   120    80           1    1     0    0   \n",
              "\n",
              "  active cardio  \n",
              "0      1      0  \n",
              "1      1      1  \n",
              "2      1      0  \n",
              "3      1      0  \n",
              "4      1      0  "
            ],
            "text/html": [
              "\n",
              "  <div id=\"df-d88139f8-2ac9-4769-a4bc-c1d5056c0585\">\n",
              "    <div class=\"colab-df-container\">\n",
              "      <div>\n",
              "<style scoped>\n",
              "    .dataframe tbody tr th:only-of-type {\n",
              "        vertical-align: middle;\n",
              "    }\n",
              "\n",
              "    .dataframe tbody tr th {\n",
              "        vertical-align: top;\n",
              "    }\n",
              "\n",
              "    .dataframe thead th {\n",
              "        text-align: right;\n",
              "    }\n",
              "</style>\n",
              "<table border=\"1\" class=\"dataframe\">\n",
              "  <thead>\n",
              "    <tr style=\"text-align: right;\">\n",
              "      <th></th>\n",
              "      <th>id</th>\n",
              "      <th>age</th>\n",
              "      <th>gender</th>\n",
              "      <th>height</th>\n",
              "      <th>weight</th>\n",
              "      <th>ap_hi</th>\n",
              "      <th>ap_lo</th>\n",
              "      <th>cholesterol</th>\n",
              "      <th>gluc</th>\n",
              "      <th>smoke</th>\n",
              "      <th>alco</th>\n",
              "      <th>active</th>\n",
              "      <th>cardio</th>\n",
              "    </tr>\n",
              "  </thead>\n",
              "  <tbody>\n",
              "    <tr>\n",
              "      <th>0</th>\n",
              "      <td>988</td>\n",
              "      <td>22469</td>\n",
              "      <td>1</td>\n",
              "      <td>155</td>\n",
              "      <td>69.0</td>\n",
              "      <td>130</td>\n",
              "      <td>80</td>\n",
              "      <td>2</td>\n",
              "      <td>2</td>\n",
              "      <td>0</td>\n",
              "      <td>0</td>\n",
              "      <td>1</td>\n",
              "      <td>0</td>\n",
              "    </tr>\n",
              "    <tr>\n",
              "      <th>1</th>\n",
              "      <td>989</td>\n",
              "      <td>14648</td>\n",
              "      <td>1</td>\n",
              "      <td>163</td>\n",
              "      <td>71.0</td>\n",
              "      <td>110</td>\n",
              "      <td>70</td>\n",
              "      <td>1</td>\n",
              "      <td>1</td>\n",
              "      <td>0</td>\n",
              "      <td>0</td>\n",
              "      <td>1</td>\n",
              "      <td>1</td>\n",
              "    </tr>\n",
              "    <tr>\n",
              "      <th>2</th>\n",
              "      <td>990</td>\n",
              "      <td>21901</td>\n",
              "      <td>1</td>\n",
              "      <td>165</td>\n",
              "      <td>70.0</td>\n",
              "      <td>120</td>\n",
              "      <td>80</td>\n",
              "      <td>1</td>\n",
              "      <td>1</td>\n",
              "      <td>0</td>\n",
              "      <td>0</td>\n",
              "      <td>1</td>\n",
              "      <td>0</td>\n",
              "    </tr>\n",
              "    <tr>\n",
              "      <th>3</th>\n",
              "      <td>991</td>\n",
              "      <td>14549</td>\n",
              "      <td>2</td>\n",
              "      <td>165</td>\n",
              "      <td>85.0</td>\n",
              "      <td>120</td>\n",
              "      <td>80</td>\n",
              "      <td>1</td>\n",
              "      <td>1</td>\n",
              "      <td>1</td>\n",
              "      <td>1</td>\n",
              "      <td>1</td>\n",
              "      <td>0</td>\n",
              "    </tr>\n",
              "    <tr>\n",
              "      <th>4</th>\n",
              "      <td>992</td>\n",
              "      <td>23393</td>\n",
              "      <td>1</td>\n",
              "      <td>155</td>\n",
              "      <td>62.0</td>\n",
              "      <td>120</td>\n",
              "      <td>80</td>\n",
              "      <td>1</td>\n",
              "      <td>1</td>\n",
              "      <td>0</td>\n",
              "      <td>0</td>\n",
              "      <td>1</td>\n",
              "      <td>0</td>\n",
              "    </tr>\n",
              "  </tbody>\n",
              "</table>\n",
              "</div>\n",
              "      <button class=\"colab-df-convert\" onclick=\"convertToInteractive('df-d88139f8-2ac9-4769-a4bc-c1d5056c0585')\"\n",
              "              title=\"Convert this dataframe to an interactive table.\"\n",
              "              style=\"display:none;\">\n",
              "        \n",
              "  <svg xmlns=\"http://www.w3.org/2000/svg\" height=\"24px\"viewBox=\"0 0 24 24\"\n",
              "       width=\"24px\">\n",
              "    <path d=\"M0 0h24v24H0V0z\" fill=\"none\"/>\n",
              "    <path d=\"M18.56 5.44l.94 2.06.94-2.06 2.06-.94-2.06-.94-.94-2.06-.94 2.06-2.06.94zm-11 1L8.5 8.5l.94-2.06 2.06-.94-2.06-.94L8.5 2.5l-.94 2.06-2.06.94zm10 10l.94 2.06.94-2.06 2.06-.94-2.06-.94-.94-2.06-.94 2.06-2.06.94z\"/><path d=\"M17.41 7.96l-1.37-1.37c-.4-.4-.92-.59-1.43-.59-.52 0-1.04.2-1.43.59L10.3 9.45l-7.72 7.72c-.78.78-.78 2.05 0 2.83L4 21.41c.39.39.9.59 1.41.59.51 0 1.02-.2 1.41-.59l7.78-7.78 2.81-2.81c.8-.78.8-2.07 0-2.86zM5.41 20L4 18.59l7.72-7.72 1.47 1.35L5.41 20z\"/>\n",
              "  </svg>\n",
              "      </button>\n",
              "      \n",
              "  <style>\n",
              "    .colab-df-container {\n",
              "      display:flex;\n",
              "      flex-wrap:wrap;\n",
              "      gap: 12px;\n",
              "    }\n",
              "\n",
              "    .colab-df-convert {\n",
              "      background-color: #E8F0FE;\n",
              "      border: none;\n",
              "      border-radius: 50%;\n",
              "      cursor: pointer;\n",
              "      display: none;\n",
              "      fill: #1967D2;\n",
              "      height: 32px;\n",
              "      padding: 0 0 0 0;\n",
              "      width: 32px;\n",
              "    }\n",
              "\n",
              "    .colab-df-convert:hover {\n",
              "      background-color: #E2EBFA;\n",
              "      box-shadow: 0px 1px 2px rgba(60, 64, 67, 0.3), 0px 1px 3px 1px rgba(60, 64, 67, 0.15);\n",
              "      fill: #174EA6;\n",
              "    }\n",
              "\n",
              "    [theme=dark] .colab-df-convert {\n",
              "      background-color: #3B4455;\n",
              "      fill: #D2E3FC;\n",
              "    }\n",
              "\n",
              "    [theme=dark] .colab-df-convert:hover {\n",
              "      background-color: #434B5C;\n",
              "      box-shadow: 0px 1px 3px 1px rgba(0, 0, 0, 0.15);\n",
              "      filter: drop-shadow(0px 1px 2px rgba(0, 0, 0, 0.3));\n",
              "      fill: #FFFFFF;\n",
              "    }\n",
              "  </style>\n",
              "\n",
              "      <script>\n",
              "        const buttonEl =\n",
              "          document.querySelector('#df-d88139f8-2ac9-4769-a4bc-c1d5056c0585 button.colab-df-convert');\n",
              "        buttonEl.style.display =\n",
              "          google.colab.kernel.accessAllowed ? 'block' : 'none';\n",
              "\n",
              "        async function convertToInteractive(key) {\n",
              "          const element = document.querySelector('#df-d88139f8-2ac9-4769-a4bc-c1d5056c0585');\n",
              "          const dataTable =\n",
              "            await google.colab.kernel.invokeFunction('convertToInteractive',\n",
              "                                                     [key], {});\n",
              "          if (!dataTable) return;\n",
              "\n",
              "          const docLinkHtml = 'Like what you see? Visit the ' +\n",
              "            '<a target=\"_blank\" href=https://colab.research.google.com/notebooks/data_table.ipynb>data table notebook</a>'\n",
              "            + ' to learn more about interactive tables.';\n",
              "          element.innerHTML = '';\n",
              "          dataTable['output_type'] = 'display_data';\n",
              "          await google.colab.output.renderOutput(dataTable, element);\n",
              "          const docLink = document.createElement('div');\n",
              "          docLink.innerHTML = docLinkHtml;\n",
              "          element.appendChild(docLink);\n",
              "        }\n",
              "      </script>\n",
              "    </div>\n",
              "  </div>\n",
              "  "
            ]
          },
          "metadata": {},
          "execution_count": 4
        }
      ]
    },
    {
      "cell_type": "code",
      "source": [
        "heart_disease_data.isna().sum()"
      ],
      "metadata": {
        "colab": {
          "base_uri": "https://localhost:8080/"
        },
        "id": "bf-poI146RZ-",
        "outputId": "1060ebd8-b850-434a-ac71-2037bfcba799"
      },
      "execution_count": null,
      "outputs": [
        {
          "output_type": "execute_result",
          "data": {
            "text/plain": [
              "id             0\n",
              "age            0\n",
              "gender         0\n",
              "height         0\n",
              "weight         0\n",
              "ap_hi          0\n",
              "ap_lo          0\n",
              "cholesterol    0\n",
              "gluc           0\n",
              "smoke          0\n",
              "alco           0\n",
              "active         0\n",
              "cardio         0\n",
              "dtype: int64"
            ]
          },
          "metadata": {},
          "execution_count": 5
        }
      ]
    },
    {
      "cell_type": "code",
      "source": [
        "column_names = [\"id\",\"age\",\"gender\",\"height\",\"weight\",\n",
        "                \"ap_hi\",\"ap_lo\",\"cholesterol\",\"gluc\",\n",
        "                \"smoke\",\"alco\",\"active\",'cardio']\n",
        "for col in column_names:\n",
        "    heart_disease_data[col] = pd.to_numeric(heart_disease_data[col])"
      ],
      "metadata": {
        "id": "iVmH2YmF7dgQ"
      },
      "execution_count": 4,
      "outputs": []
    },
    {
      "cell_type": "code",
      "source": [
        "heart_disease_data[\"age\"] = [elem/365 for elem in heart_disease_data[\"age\"]]"
      ],
      "metadata": {
        "id": "OB02ibb6Cq0V"
      },
      "execution_count": 5,
      "outputs": []
    },
    {
      "cell_type": "code",
      "source": [
        "heart_disease_data.head(10)"
      ],
      "metadata": {
        "colab": {
          "base_uri": "https://localhost:8080/",
          "height": 363
        },
        "id": "KLzoVs3XQrvK",
        "outputId": "73b780a2-d6fb-43ee-d858-91a302cd45f0"
      },
      "execution_count": null,
      "outputs": [
        {
          "output_type": "execute_result",
          "data": {
            "text/plain": [
              "     id        age  gender  height  weight  ap_hi  ap_lo  cholesterol  gluc  \\\n",
              "0   988  61.558904       1     155    69.0    130     80            2     2   \n",
              "1   989  40.131507       1     163    71.0    110     70            1     1   \n",
              "2   990  60.002740       1     165    70.0    120     80            1     1   \n",
              "3   991  39.860274       2     165    85.0    120     80            1     1   \n",
              "4   992  64.090411       1     155    62.0    120     80            1     1   \n",
              "5   995  57.926027       1     164    61.0    100     70            1     1   \n",
              "6   996  49.547945       1     162    72.0    100     70            1     1   \n",
              "7   997  61.772603       1     161    93.0    140     90            2     1   \n",
              "8   999  58.219178       1     157    68.0    110     80            1     1   \n",
              "9  1000  61.495890       1     158    65.0    140     90            3     1   \n",
              "\n",
              "   smoke  alco  active  cardio  \n",
              "0      0     0       1       0  \n",
              "1      0     0       1       1  \n",
              "2      0     0       1       0  \n",
              "3      1     1       1       0  \n",
              "4      0     0       1       0  \n",
              "5      0     0       1       0  \n",
              "6      0     0       1       0  \n",
              "7      0     0       1       1  \n",
              "8      0     0       1       0  \n",
              "9      0     0       1       1  "
            ],
            "text/html": [
              "\n",
              "  <div id=\"df-5d7f6da8-6e20-4726-a766-b9aab9e201d4\">\n",
              "    <div class=\"colab-df-container\">\n",
              "      <div>\n",
              "<style scoped>\n",
              "    .dataframe tbody tr th:only-of-type {\n",
              "        vertical-align: middle;\n",
              "    }\n",
              "\n",
              "    .dataframe tbody tr th {\n",
              "        vertical-align: top;\n",
              "    }\n",
              "\n",
              "    .dataframe thead th {\n",
              "        text-align: right;\n",
              "    }\n",
              "</style>\n",
              "<table border=\"1\" class=\"dataframe\">\n",
              "  <thead>\n",
              "    <tr style=\"text-align: right;\">\n",
              "      <th></th>\n",
              "      <th>id</th>\n",
              "      <th>age</th>\n",
              "      <th>gender</th>\n",
              "      <th>height</th>\n",
              "      <th>weight</th>\n",
              "      <th>ap_hi</th>\n",
              "      <th>ap_lo</th>\n",
              "      <th>cholesterol</th>\n",
              "      <th>gluc</th>\n",
              "      <th>smoke</th>\n",
              "      <th>alco</th>\n",
              "      <th>active</th>\n",
              "      <th>cardio</th>\n",
              "    </tr>\n",
              "  </thead>\n",
              "  <tbody>\n",
              "    <tr>\n",
              "      <th>0</th>\n",
              "      <td>988</td>\n",
              "      <td>61.558904</td>\n",
              "      <td>1</td>\n",
              "      <td>155</td>\n",
              "      <td>69.0</td>\n",
              "      <td>130</td>\n",
              "      <td>80</td>\n",
              "      <td>2</td>\n",
              "      <td>2</td>\n",
              "      <td>0</td>\n",
              "      <td>0</td>\n",
              "      <td>1</td>\n",
              "      <td>0</td>\n",
              "    </tr>\n",
              "    <tr>\n",
              "      <th>1</th>\n",
              "      <td>989</td>\n",
              "      <td>40.131507</td>\n",
              "      <td>1</td>\n",
              "      <td>163</td>\n",
              "      <td>71.0</td>\n",
              "      <td>110</td>\n",
              "      <td>70</td>\n",
              "      <td>1</td>\n",
              "      <td>1</td>\n",
              "      <td>0</td>\n",
              "      <td>0</td>\n",
              "      <td>1</td>\n",
              "      <td>1</td>\n",
              "    </tr>\n",
              "    <tr>\n",
              "      <th>2</th>\n",
              "      <td>990</td>\n",
              "      <td>60.002740</td>\n",
              "      <td>1</td>\n",
              "      <td>165</td>\n",
              "      <td>70.0</td>\n",
              "      <td>120</td>\n",
              "      <td>80</td>\n",
              "      <td>1</td>\n",
              "      <td>1</td>\n",
              "      <td>0</td>\n",
              "      <td>0</td>\n",
              "      <td>1</td>\n",
              "      <td>0</td>\n",
              "    </tr>\n",
              "    <tr>\n",
              "      <th>3</th>\n",
              "      <td>991</td>\n",
              "      <td>39.860274</td>\n",
              "      <td>2</td>\n",
              "      <td>165</td>\n",
              "      <td>85.0</td>\n",
              "      <td>120</td>\n",
              "      <td>80</td>\n",
              "      <td>1</td>\n",
              "      <td>1</td>\n",
              "      <td>1</td>\n",
              "      <td>1</td>\n",
              "      <td>1</td>\n",
              "      <td>0</td>\n",
              "    </tr>\n",
              "    <tr>\n",
              "      <th>4</th>\n",
              "      <td>992</td>\n",
              "      <td>64.090411</td>\n",
              "      <td>1</td>\n",
              "      <td>155</td>\n",
              "      <td>62.0</td>\n",
              "      <td>120</td>\n",
              "      <td>80</td>\n",
              "      <td>1</td>\n",
              "      <td>1</td>\n",
              "      <td>0</td>\n",
              "      <td>0</td>\n",
              "      <td>1</td>\n",
              "      <td>0</td>\n",
              "    </tr>\n",
              "    <tr>\n",
              "      <th>5</th>\n",
              "      <td>995</td>\n",
              "      <td>57.926027</td>\n",
              "      <td>1</td>\n",
              "      <td>164</td>\n",
              "      <td>61.0</td>\n",
              "      <td>100</td>\n",
              "      <td>70</td>\n",
              "      <td>1</td>\n",
              "      <td>1</td>\n",
              "      <td>0</td>\n",
              "      <td>0</td>\n",
              "      <td>1</td>\n",
              "      <td>0</td>\n",
              "    </tr>\n",
              "    <tr>\n",
              "      <th>6</th>\n",
              "      <td>996</td>\n",
              "      <td>49.547945</td>\n",
              "      <td>1</td>\n",
              "      <td>162</td>\n",
              "      <td>72.0</td>\n",
              "      <td>100</td>\n",
              "      <td>70</td>\n",
              "      <td>1</td>\n",
              "      <td>1</td>\n",
              "      <td>0</td>\n",
              "      <td>0</td>\n",
              "      <td>1</td>\n",
              "      <td>0</td>\n",
              "    </tr>\n",
              "    <tr>\n",
              "      <th>7</th>\n",
              "      <td>997</td>\n",
              "      <td>61.772603</td>\n",
              "      <td>1</td>\n",
              "      <td>161</td>\n",
              "      <td>93.0</td>\n",
              "      <td>140</td>\n",
              "      <td>90</td>\n",
              "      <td>2</td>\n",
              "      <td>1</td>\n",
              "      <td>0</td>\n",
              "      <td>0</td>\n",
              "      <td>1</td>\n",
              "      <td>1</td>\n",
              "    </tr>\n",
              "    <tr>\n",
              "      <th>8</th>\n",
              "      <td>999</td>\n",
              "      <td>58.219178</td>\n",
              "      <td>1</td>\n",
              "      <td>157</td>\n",
              "      <td>68.0</td>\n",
              "      <td>110</td>\n",
              "      <td>80</td>\n",
              "      <td>1</td>\n",
              "      <td>1</td>\n",
              "      <td>0</td>\n",
              "      <td>0</td>\n",
              "      <td>1</td>\n",
              "      <td>0</td>\n",
              "    </tr>\n",
              "    <tr>\n",
              "      <th>9</th>\n",
              "      <td>1000</td>\n",
              "      <td>61.495890</td>\n",
              "      <td>1</td>\n",
              "      <td>158</td>\n",
              "      <td>65.0</td>\n",
              "      <td>140</td>\n",
              "      <td>90</td>\n",
              "      <td>3</td>\n",
              "      <td>1</td>\n",
              "      <td>0</td>\n",
              "      <td>0</td>\n",
              "      <td>1</td>\n",
              "      <td>1</td>\n",
              "    </tr>\n",
              "  </tbody>\n",
              "</table>\n",
              "</div>\n",
              "      <button class=\"colab-df-convert\" onclick=\"convertToInteractive('df-5d7f6da8-6e20-4726-a766-b9aab9e201d4')\"\n",
              "              title=\"Convert this dataframe to an interactive table.\"\n",
              "              style=\"display:none;\">\n",
              "        \n",
              "  <svg xmlns=\"http://www.w3.org/2000/svg\" height=\"24px\"viewBox=\"0 0 24 24\"\n",
              "       width=\"24px\">\n",
              "    <path d=\"M0 0h24v24H0V0z\" fill=\"none\"/>\n",
              "    <path d=\"M18.56 5.44l.94 2.06.94-2.06 2.06-.94-2.06-.94-.94-2.06-.94 2.06-2.06.94zm-11 1L8.5 8.5l.94-2.06 2.06-.94-2.06-.94L8.5 2.5l-.94 2.06-2.06.94zm10 10l.94 2.06.94-2.06 2.06-.94-2.06-.94-.94-2.06-.94 2.06-2.06.94z\"/><path d=\"M17.41 7.96l-1.37-1.37c-.4-.4-.92-.59-1.43-.59-.52 0-1.04.2-1.43.59L10.3 9.45l-7.72 7.72c-.78.78-.78 2.05 0 2.83L4 21.41c.39.39.9.59 1.41.59.51 0 1.02-.2 1.41-.59l7.78-7.78 2.81-2.81c.8-.78.8-2.07 0-2.86zM5.41 20L4 18.59l7.72-7.72 1.47 1.35L5.41 20z\"/>\n",
              "  </svg>\n",
              "      </button>\n",
              "      \n",
              "  <style>\n",
              "    .colab-df-container {\n",
              "      display:flex;\n",
              "      flex-wrap:wrap;\n",
              "      gap: 12px;\n",
              "    }\n",
              "\n",
              "    .colab-df-convert {\n",
              "      background-color: #E8F0FE;\n",
              "      border: none;\n",
              "      border-radius: 50%;\n",
              "      cursor: pointer;\n",
              "      display: none;\n",
              "      fill: #1967D2;\n",
              "      height: 32px;\n",
              "      padding: 0 0 0 0;\n",
              "      width: 32px;\n",
              "    }\n",
              "\n",
              "    .colab-df-convert:hover {\n",
              "      background-color: #E2EBFA;\n",
              "      box-shadow: 0px 1px 2px rgba(60, 64, 67, 0.3), 0px 1px 3px 1px rgba(60, 64, 67, 0.15);\n",
              "      fill: #174EA6;\n",
              "    }\n",
              "\n",
              "    [theme=dark] .colab-df-convert {\n",
              "      background-color: #3B4455;\n",
              "      fill: #D2E3FC;\n",
              "    }\n",
              "\n",
              "    [theme=dark] .colab-df-convert:hover {\n",
              "      background-color: #434B5C;\n",
              "      box-shadow: 0px 1px 3px 1px rgba(0, 0, 0, 0.15);\n",
              "      filter: drop-shadow(0px 1px 2px rgba(0, 0, 0, 0.3));\n",
              "      fill: #FFFFFF;\n",
              "    }\n",
              "  </style>\n",
              "\n",
              "      <script>\n",
              "        const buttonEl =\n",
              "          document.querySelector('#df-5d7f6da8-6e20-4726-a766-b9aab9e201d4 button.colab-df-convert');\n",
              "        buttonEl.style.display =\n",
              "          google.colab.kernel.accessAllowed ? 'block' : 'none';\n",
              "\n",
              "        async function convertToInteractive(key) {\n",
              "          const element = document.querySelector('#df-5d7f6da8-6e20-4726-a766-b9aab9e201d4');\n",
              "          const dataTable =\n",
              "            await google.colab.kernel.invokeFunction('convertToInteractive',\n",
              "                                                     [key], {});\n",
              "          if (!dataTable) return;\n",
              "\n",
              "          const docLinkHtml = 'Like what you see? Visit the ' +\n",
              "            '<a target=\"_blank\" href=https://colab.research.google.com/notebooks/data_table.ipynb>data table notebook</a>'\n",
              "            + ' to learn more about interactive tables.';\n",
              "          element.innerHTML = '';\n",
              "          dataTable['output_type'] = 'display_data';\n",
              "          await google.colab.output.renderOutput(dataTable, element);\n",
              "          const docLink = document.createElement('div');\n",
              "          docLink.innerHTML = docLinkHtml;\n",
              "          element.appendChild(docLink);\n",
              "        }\n",
              "      </script>\n",
              "    </div>\n",
              "  </div>\n",
              "  "
            ]
          },
          "metadata": {},
          "execution_count": 8
        }
      ]
    },
    {
      "cell_type": "code",
      "source": [
        "X = heart_disease_data.drop(columns = 'cardio').to_numpy()\n",
        "y = heart_disease_data['cardio'].to_numpy()\n",
        "X_train, X_test, y_train, y_test = train_test_split(X, y, train_size=0.8, random_state=5)"
      ],
      "metadata": {
        "id": "C_a9N_Sw7_Tg"
      },
      "execution_count": 6,
      "outputs": []
    },
    {
      "cell_type": "code",
      "source": [
        "class KNN(BaseEstimator, ClassifierMixin):\n",
        "    def __init__(self, k=5):\n",
        "        self.k = k\n",
        "\n",
        "    def fit(self, X, y):  \n",
        "        self.X = X\n",
        "        self.y = y\n",
        "        return self\n",
        "\n",
        "    def predict(self, X):\n",
        "        check_is_fitted(self, ['X', 'y'])\n",
        "        predictions = np.ndarray((X.shape[0],))\n",
        "        for (num, elem) in enumerate(X):\n",
        "            distances = euclidean_distances([elem], self.X)[0]\n",
        "            neighbors = np.argpartition(distances, kth=self.k-1) \n",
        "            k_nearest_neighbors = neighbors[:self.k] \n",
        "            labels, counts = np.unique(self.y[k_nearest_neighbors], return_counts=True)\n",
        "            predictions[num] = labels[counts.argmax()] \n",
        "        return predictions"
      ],
      "metadata": {
        "id": "MDYYerE9Ti-9"
      },
      "execution_count": null,
      "outputs": []
    },
    {
      "cell_type": "code",
      "source": [
        "def info(model, data, labels):\n",
        "    pred = model.predict(data)\n",
        "    print('Accuracy:', accuracy_score(labels, pred))\n",
        "    print('Precision:', precision_score(labels, pred))\n",
        "    print('Recall:', recall_score(labels, pred))\n",
        "    print('ROC AUC:', roc_auc_score(labels, pred))\n",
        "\n",
        "    figure = plt.figure(figsize=(12, 4))\n",
        "    matrix = confusion_matrix(labels, pred)\n",
        "    ax = plt.subplot(1, 2, 1)\n",
        "    ConfusionMatrixDisplay(matrix).plot(ax=ax)\n",
        "    ax = plt.subplot(1, 2, 2)\n",
        "    RocCurveDisplay.from_predictions(labels, pred, ax=ax)\n",
        "    plt.subplots_adjust(wspace=0.3)\n",
        "    plt.show()\n"
      ],
      "metadata": {
        "id": "U-18U18qoRwm"
      },
      "execution_count": 7,
      "outputs": []
    },
    {
      "cell_type": "code",
      "source": [
        "knn = GridSearchCV(Pipeline([('scaler', StandardScaler()),('KNN', KNN())]),\n",
        "    {'KNN__k' : [1, 5, 9, 13]})\n",
        "knn.fit(X_train, y_train)\n",
        "knn_best = knn.best_estimator_\n",
        "knn_best"
      ],
      "metadata": {
        "id": "fLY_KBaR87rQ",
        "colab": {
          "base_uri": "https://localhost:8080/"
        },
        "outputId": "cbafd4cd-1929-4b3c-ee15-d1224a8f7de1"
      },
      "execution_count": null,
      "outputs": [
        {
          "output_type": "execute_result",
          "data": {
            "text/plain": [
              "Pipeline(steps=[('scaler', StandardScaler()), ('KNN', KNN(k=13))])"
            ]
          },
          "metadata": {},
          "execution_count": 12
        }
      ]
    },
    {
      "cell_type": "code",
      "source": [
        "info(knn_best, X_test, y_test)"
      ],
      "metadata": {
        "id": "A_WbZM1cGFEm",
        "colab": {
          "base_uri": "https://localhost:8080/",
          "height": 348
        },
        "outputId": "0755908a-e849-485a-82c0-3579bd6d3f31"
      },
      "execution_count": null,
      "outputs": [
        {
          "output_type": "stream",
          "name": "stdout",
          "text": [
            "Accuracy: 0.642161460212106\n",
            "Precision: 0.645709040844424\n",
            "Recall: 0.6148579752367079\n",
            "ROC AUC: 0.6419058315291601\n"
          ]
        },
        {
          "output_type": "display_data",
          "data": {
            "text/plain": [
              "<Figure size 864x288 with 3 Axes>"
            ],
            "image/png": "[encoded data removed]"
          },
          "metadata": {
            "needs_background": "light"
          }
        }
      ]
    },
    {
      "cell_type": "code",
      "source": [
        "from sklearn.neighbors import KNeighborsClassifier\n",
        "skl_knn = GridSearchCV(Pipeline([('scaler', StandardScaler()), ('knn', KNeighborsClassifier())]),\n",
        "                    {'knn__n_neighbors': [1, 5, 9, 13]})\n",
        "skl_knn.fit(X_train, y_train)\n",
        "skl_knn_best = skl_knn.best_estimator_\n",
        "skl_knn_best"
      ],
      "metadata": {
        "id": "4xqSMbfCL_KO",
        "colab": {
          "base_uri": "https://localhost:8080/"
        },
        "outputId": "81dd4f40-bf16-4e04-e019-eceb61a17821"
      },
      "execution_count": null,
      "outputs": [
        {
          "output_type": "execute_result",
          "data": {
            "text/plain": [
              "Pipeline(steps=[('scaler', StandardScaler()),\n",
              "                ('knn', KNeighborsClassifier(n_neighbors=13))])"
            ]
          },
          "metadata": {},
          "execution_count": 14
        }
      ]
    },
    {
      "cell_type": "code",
      "source": [
        "info(skl_knn_best, X_test, y_test)"
      ],
      "metadata": {
        "id": "GOcxAlGVPdNG",
        "colab": {
          "base_uri": "https://localhost:8080/",
          "height": 348
        },
        "outputId": "c8ae2a9c-1904-4b86-be2c-9069d4a0d8f7"
      },
      "execution_count": null,
      "outputs": [
        {
          "output_type": "stream",
          "name": "stdout",
          "text": [
            "Accuracy: 0.642161460212106\n",
            "Precision: 0.645709040844424\n",
            "Recall: 0.6148579752367079\n",
            "ROC AUC: 0.6419058315291601\n"
          ]
        },
        {
          "output_type": "display_data",
          "data": {
            "text/plain": [
              "<Figure size 864x288 with 3 Axes>"
            ],
            "image/png": "[encoded data removed]"
          },
          "metadata": {
            "needs_background": "light"
          }
        }
      ]
    },
    {
      "cell_type": "code",
      "source": [
        "file = open('models/knn.pkl', 'wb')\n",
        "pickle.dump(knn_best, file, pickle.HIGHEST_PROTOCOL)\n",
        "file.close()"
      ],
      "metadata": {
        "id": "nuuxOiULLzQk"
      },
      "execution_count": null,
      "outputs": []
    },
    {
      "cell_type": "code",
      "source": [
        "from scipy.stats import gaussian_kde\n",
        "class NaiveBayes(BaseEstimator, ClassifierMixin):\n",
        "    def __init__(self):\n",
        "        pass\n",
        "    \n",
        "    def fit(self, data, labels):\n",
        "        self.data = data\n",
        "        self.labels = labels\n",
        "        self.kde = []\n",
        "        for c, count in zip(*np.unique(labels, return_counts=True)):\n",
        "            self.kde.append([])\n",
        "            for i in range(data.shape[1]):\n",
        "                self.kde[-1].append(gaussian_kde(data[labels == c, i]))\n",
        "        self.classes = np.unique(labels, return_counts=True)[1] / len(labels)\n",
        "        return self\n",
        "    \n",
        "    def predict(self, data):\n",
        "        res = np.ndarray((data.shape[0],))\n",
        "        for i, obj in enumerate(data):\n",
        "            prob = np.array(self.classes)\n",
        "            for j in range(len(self.classes)):\n",
        "                for k, kde in enumerate(self.kde[j]):\n",
        "                    prob[j] *= kde(obj[k])[0]\n",
        "            res[i] = prob.argmax()\n",
        "        return res"
      ],
      "metadata": {
        "id": "DUCkRaZJ0SYj"
      },
      "execution_count": null,
      "outputs": []
    },
    {
      "cell_type": "code",
      "source": [
        "nb = Pipeline([('NBayes', NaiveBayes())])\n",
        "nb.fit(X_train, y_train)\n",
        "info(nb, X_test, y_test)"
      ],
      "metadata": {
        "id": "nFIcZv1HK0wY",
        "colab": {
          "base_uri": "https://localhost:8080/",
          "height": 348
        },
        "outputId": "19aac071-77ce-46f1-f3b5-9162887f4370"
      },
      "execution_count": null,
      "outputs": [
        {
          "output_type": "stream",
          "name": "stdout",
          "text": [
            "Accuracy: 0.6319890339802323\n",
            "Precision: 0.8276374442793462\n",
            "Recall: 0.32454479242534595\n",
            "ROC AUC: 0.6291105894659605\n"
          ]
        },
        {
          "output_type": "display_data",
          "data": {
            "text/plain": [
              "<Figure size 864x288 with 3 Axes>"
            ],
            "image/png": "[encoded data removed]"
          },
          "metadata": {
            "needs_background": "light"
          }
        }
      ]
    },
    {
      "cell_type": "code",
      "source": [
        "skl_nb = Pipeline([(\"SKL_NB\", GaussianNB())])\n",
        "skl_nb.fit(X_train, y_train)\n",
        "info(skl_nb, X_test, y_test)"
      ],
      "metadata": {
        "id": "rI2eLBabLl-f",
        "colab": {
          "base_uri": "https://localhost:8080/",
          "height": 348
        },
        "outputId": "8c06846f-7286-484f-8e62-d295ded836b1"
      },
      "execution_count": null,
      "outputs": [
        {
          "output_type": "stream",
          "name": "stdout",
          "text": [
            "Accuracy: 0.5557319096746266\n",
            "Precision: 0.7680060652009097\n",
            "Recall: 0.14756008739985432\n",
            "ROC AUC: 0.5519104039057591\n"
          ]
        },
        {
          "output_type": "display_data",
          "data": {
            "text/plain": [
              "<Figure size 864x288 with 3 Axes>"
            ],
            "image/png": "[encoded data removed]"
          },
          "metadata": {
            "needs_background": "light"
          }
        }
      ]
    },
    {
      "cell_type": "code",
      "source": [
        "file = open('models/nb.pkl', 'wb')\n",
        "pickle.dump(nb, file, pickle.HIGHEST_PROTOCOL)\n",
        "file.close()"
      ],
      "metadata": {
        "id": "n6JOgb9XLHpd"
      },
      "execution_count": null,
      "outputs": []
    },
    {
      "cell_type": "code",
      "source": [
        "class SVM(BaseEstimator, ClassifierMixin):\n",
        "    def __init__(self, epochs=1, batch_size=15, lr=0.01, alpha=0.001):\n",
        "        self.epochs = epochs\n",
        "        self.batch_size = batch_size\n",
        "        self.lr = lr\n",
        "        self.alpha = alpha\n",
        "    \n",
        "    def fit(self, X, y):\n",
        "        self.W = np.random.normal(0, 1, (X.shape[1]+1,))\n",
        "        y = y * 2 - 1\n",
        "        X = np.concatenate((X, np.ones((X.shape[0],1))), axis=1)\n",
        "        for epoch in range(self.epochs):\n",
        "            for i in range(self.batch_size, len(X), self.batch_size):\n",
        "                X_batch = X[i:i+self.batch_size]\n",
        "                y_batch = y[i:i+self.batch_size]\n",
        "                gradient = 2 * self.alpha * self.W\n",
        "                for i, x in enumerate(X_batch):\n",
        "                    if 1 - x.dot(self.W) * y_batch[i] > 0:\n",
        "                        gradient -= x * y_batch[i]\n",
        "                self.W -= self.lr * gradient\n",
        "        return self\n",
        "\n",
        "    def predict(self, data):\n",
        "        return (np.sign(np.concatenate((data, np.ones((data.shape[0],1))), axis=1).dot(self.W)) + 1) / 2"
      ],
      "metadata": {
        "id": "pIP9ehdz1dMr"
      },
      "execution_count": null,
      "outputs": []
    },
    {
      "cell_type": "code",
      "source": [
        "svm = GridSearchCV(Pipeline([(\"SVM\", SVM())]),\n",
        "    {'SVM__epochs' : [1, 5, 10],\n",
        "    'SVM__batch_size' : [5, 10, 15],\n",
        "    'SVM__lr' : [0.01, 0.05, 0.25],\n",
        "    'SVM__alpha' : [0.1, 0.01, 0.001]})"
      ],
      "metadata": {
        "id": "TLerysPgIE-Z"
      },
      "execution_count": null,
      "outputs": []
    },
    {
      "cell_type": "code",
      "source": [
        "svm.fit(X_train, y_train)\n",
        "svm_best = svm.best_estimator_\n",
        "svm_best"
      ],
      "metadata": {
        "id": "qFK6XEMiIKLA",
        "colab": {
          "base_uri": "https://localhost:8080/"
        },
        "outputId": "b8131b5e-20f2-4660-dde0-7e3f9c34f16c"
      },
      "execution_count": null,
      "outputs": [
        {
          "output_type": "execute_result",
          "data": {
            "text/plain": [
              "Pipeline(steps=[('SVM', SVM(batch_size=10, epochs=10))])"
            ]
          },
          "metadata": {},
          "execution_count": 34
        }
      ]
    },
    {
      "cell_type": "code",
      "source": [
        "info(svm_best, X_test, y_test)"
      ],
      "metadata": {
        "id": "ZxX_kqImIO4n",
        "colab": {
          "base_uri": "https://localhost:8080/",
          "height": 348
        },
        "outputId": "e4a21755-8204-4b63-c3b2-e5c31b0a0d56"
      },
      "execution_count": null,
      "outputs": [
        {
          "output_type": "stream",
          "name": "stdout",
          "text": [
            "Accuracy: 0.5086934564605728\n",
            "Precision: 0.5564681724845996\n",
            "Recall: 0.03947560087399855\n",
            "ROC AUC: 0.5043004076411159\n"
          ]
        },
        {
          "output_type": "display_data",
          "data": {
            "text/plain": [
              "<Figure size 864x288 with 3 Axes>"
            ],
            "image/png": "[encoded data removed]"
          },
          "metadata": {
            "needs_background": "light"
          }
        }
      ]
    },
    {
      "cell_type": "code",
      "source": [
        "from sklearn.linear_model import SGDClassifier\n",
        "skl_svm = GridSearchCV(Pipeline([('normalizer', Normalizer()), ('svm', SGDClassifier(loss='hinge', learning_rate='constant'))]),\n",
        "                    {'svm__eta0': [0.1, 0.01, 0.001], 'svm__max_iter': [100, 1000, 5000], \n",
        "                     'svm__alpha': [0.01, 0.001, 0.0001]})\n",
        "skl_svm.fit(X_train, y_train)\n",
        "skl_svm_best = skl_svm.best_estimator_\n",
        "skl_svm_best"
      ],
      "metadata": {
        "id": "7pPwf4Z6O4HZ",
        "colab": {
          "base_uri": "https://localhost:8080/"
        },
        "outputId": "0fd35e0b-bb89-484c-edec-f15a3b8fb036"
      },
      "execution_count": 37,
      "outputs": [
        {
          "output_type": "execute_result",
          "data": {
            "text/plain": [
              "Pipeline(steps=[('normalizer', Normalizer()),\n",
              "                ('svm', SGDClassifier(eta0=0.1, learning_rate='constant'))])"
            ]
          },
          "metadata": {},
          "execution_count": 37
        }
      ]
    },
    {
      "cell_type": "code",
      "source": [
        "info(skl_svm_best, X_test, y_test)"
      ],
      "metadata": {
        "id": "sr09gT1HPOiy",
        "colab": {
          "base_uri": "https://localhost:8080/",
          "height": 348
        },
        "outputId": "2cc79021-d990-4df1-9ef0-eb92a8ff9a4d"
      },
      "execution_count": 38,
      "outputs": [
        {
          "output_type": "stream",
          "name": "stdout",
          "text": [
            "Accuracy: 0.5054469374504004\n",
            "Precision: 0.9166666666666666\n",
            "Recall: 0.0016023306627822287\n",
            "ROC AUC: 0.500729695920299\n"
          ]
        },
        {
          "output_type": "display_data",
          "data": {
            "text/plain": [
              "<Figure size 864x288 with 3 Axes>"
            ],
            "image/png": "[encoded data removed]"
          },
          "metadata": {
            "needs_background": "light"
          }
        }
      ]
    },
    {
      "cell_type": "code",
      "source": [
        "file = open('models/svm.pkl', 'wb')\n",
        "pickle.dump(svm_best, file, pickle.HIGHEST_PROTOCOL)\n",
        "file.close()"
      ],
      "metadata": {
        "id": "pH5i24jtPSQy"
      },
      "execution_count": null,
      "outputs": []
    },
    {
      "cell_type": "code",
      "source": [
        "class LogisticRegression(BaseEstimator, ClassifierMixin):\n",
        "    def __init__(self, lr=0.1, batch=10, epochs=1, alpha=0.0001):\n",
        "        self.lr = lr\n",
        "        self.batch = batch\n",
        "        self.epochs = epochs\n",
        "        self.alpha = alpha\n",
        "    \n",
        "    def fit(self, data, labels):\n",
        "        self.w = np.random.normal(0, 1, (data.shape[1]+1,))\n",
        "        data = np.concatenate((data, np.ones((data.shape[0],1))), axis=1)\n",
        "        for _ in range(self.epochs):\n",
        "            for i in range(self.batch, len(data), self.batch):\n",
        "                data_batch = data[i-self.batch:i]\n",
        "                labels_batch = labels[i-self.batch:i]\n",
        "                \n",
        "                pred = self.sigmoid(np.dot(self.w, data_batch.T))\n",
        "                grad = 2 * self.alpha * self.w + np.dot(pred - labels_batch, data_batch)\n",
        "                \n",
        "                self.w -= self.lr * grad\n",
        "        return self\n",
        "    \n",
        "    def sigmoid(self, x):\n",
        "        return 1 / (1 + np.exp(-x))\n",
        "    \n",
        "    def predict(self, data):\n",
        "        return (self.sigmoid(np.concatenate((data, np.ones((data.shape[0],1))), axis=1).dot(self.w)) > 0.5).astype('int64')"
      ],
      "metadata": {
        "id": "jTyOVShxMxZT"
      },
      "execution_count": 8,
      "outputs": []
    },
    {
      "cell_type": "code",
      "source": [
        "from sklearn.preprocessing import Normalizer\n",
        "lr = GridSearchCV(Pipeline([('normalizer', Normalizer()), ('LR', LogisticRegression())]),\n",
        "                    {'LR__lr': [0.1, 0.01, 0.001], \n",
        "                     'LR__epochs': [1, 5, 10], \n",
        "                     'LR__batch': [10, 20, 30],\n",
        "                     'LR__alpha': [0.0001, 0.001, 0.01]})\n",
        "lr.fit(X_train, y_train)\n",
        "lr_best = lr.best_estimator_"
      ],
      "metadata": {
        "id": "f_JChbqkNWE_"
      },
      "execution_count": 10,
      "outputs": []
    },
    {
      "cell_type": "code",
      "source": [
        "info(lr_best, X_test, y_test)"
      ],
      "metadata": {
        "id": "VvZ9r_WqOJag",
        "colab": {
          "base_uri": "https://localhost:8080/",
          "height": 348
        },
        "outputId": "7b59aad4-71b3-4e5d-934a-b7bb7429f914"
      },
      "execution_count": 11,
      "outputs": [
        {
          "output_type": "stream",
          "name": "stdout",
          "text": [
            "Accuracy: 0.5095591948632855\n",
            "Precision: 0.5099910527885476\n",
            "Recall: 0.2490895848506919\n",
            "ROC AUC: 0.5071205500011036\n"
          ]
        },
        {
          "output_type": "display_data",
          "data": {
            "text/plain": [
              "<Figure size 864x288 with 3 Axes>"
            ],
            "image/png": "[encoded data removed]"
          },
          "metadata": {
            "needs_background": "light"
          }
        }
      ]
    },
    {
      "cell_type": "code",
      "source": [
        "from sklearn.linear_model import LogisticRegression\n",
        "skl_lr = GridSearchCV(Pipeline([('SLR', LogisticRegression())]), {'SLR__max_iter' : [50, 100, 1000]})\n",
        "\n",
        "skl_lr.fit(X_train, y_train)\n",
        "skl_lr_best = skl_lr.best_estimator_\n",
        "skl_lr_best"
      ],
      "metadata": {
        "id": "8gRDWXrXOSX1"
      },
      "execution_count": null,
      "outputs": []
    },
    {
      "cell_type": "code",
      "source": [
        "info(skl_lr_best, X_test, y_test)"
      ],
      "metadata": {
        "id": "bHtfopaqOqXC",
        "colab": {
          "base_uri": "https://localhost:8080/",
          "height": 348
        },
        "outputId": "9fdf8c07-bb26-49b6-d299-b46fd891b8d7"
      },
      "execution_count": 31,
      "outputs": [
        {
          "output_type": "stream",
          "name": "stdout",
          "text": [
            "Accuracy: 0.6959093860471828\n",
            "Precision: 0.7038461538461539\n",
            "Recall: 0.6664238892935178\n",
            "ROC AUC: 0.6956333282945577\n"
          ]
        },
        {
          "output_type": "display_data",
          "data": {
            "text/plain": [
              "<Figure size 864x288 with 3 Axes>"
            ],
            "image/png": "[encoded data removed]"
          },
          "metadata": {
            "needs_background": "light"
          }
        }
      ]
    },
    {
      "cell_type": "code",
      "source": [
        "file = open('models/lr.pkl', 'wb')\n",
        "pickle.dump(lr_best, file, pickle.HIGHEST_PROTOCOL)\n",
        "file.close()"
      ],
      "metadata": {
        "id": "5QJNYUYdJ-QN"
      },
      "execution_count": null,
      "outputs": []
    }
  ]
}