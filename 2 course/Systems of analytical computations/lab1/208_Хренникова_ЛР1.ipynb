{
 "cells": [
  {
   "cell_type": "code",
   "execution_count": 1,
   "metadata": {},
   "outputs": [
    {
     "data": {
      "text/html": [
       "<h1 style='color: black'>Лабораторная работа №1</h1>"
      ],
      "text/plain": [
       "<h1 style='color: black'>Лабораторная работа №1</h1>"
      ]
     },
     "execution_count": 1,
     "metadata": {},
     "output_type": "execute_result"
    }
   ],
   "source": [
    "html(\"<h1 style='color: black'>Лабораторная работа №1</h1>\")"
   ]
  },
  {
   "cell_type": "code",
   "execution_count": 2,
   "metadata": {},
   "outputs": [
    {
     "data": {
      "text/html": [
       "<h2 style='color: black'>Выыполнила: Хренникова Ангелина, 208 группа</h2>"
      ],
      "text/plain": [
       "<h2 style='color: black'>Выыполнила: Хренникова Ангелина, 208 группа</h2>"
      ]
     },
     "execution_count": 2,
     "metadata": {},
     "output_type": "execute_result"
    }
   ],
   "source": [
    "html(\"<h2 style='color: black'>Выыполнила: Хренникова Ангелина, 208 группа</h2>\")"
   ]
  },
  {
   "cell_type": "code",
   "execution_count": 3,
   "metadata": {},
   "outputs": [
    {
     "data": {
      "text/html": [
       "<h3 style='color: black'>Задание 1 - Часть 1</h3>"
      ],
      "text/plain": [
       "<h3 style='color: black'>Задание 1 - Часть 1</h3>"
      ]
     },
     "execution_count": 3,
     "metadata": {},
     "output_type": "execute_result"
    }
   ],
   "source": [
    "html(\"<h3 style='color: black'>Задание 1 - Часть 1</h3>\")"
   ]
  },
  {
   "cell_type": "code",
   "execution_count": 3,
   "metadata": {},
   "outputs": [],
   "source": [
    "import math"
   ]
  },
  {
   "cell_type": "code",
   "execution_count": 7,
   "metadata": {},
   "outputs": [
    {
     "data": {
      "image/png": "[encoded data removed]",
      "text/plain": [
       "Graphics object consisting of 1 graphics primitive"
      ]
     },
     "metadata": {},
     "output_type": "display_data"
    }
   ],
   "source": [
    "a = 10\n",
    "rectangle_src = matrix([[0, 0], [0, a], [a, a], [a, 0], [0, 0]])\n",
    "#угол поворота в градусах\n",
    "alpha = math.radians(30)\n",
    "mat_rot = matrix([\n",
    "    [cos(alpha), sin(alpha)]\n",
    "    , [ -sin(alpha), cos(alpha)]\n",
    "])\n",
    "rectangle_rotated =  rectangle_src * mat_rot\n",
    "show(line(rectangle_rotated), xmin = -10, xmax = 10, ymin = -10, ymax = 10, aspect_ratio = 1)"
   ]
  },
  {
   "cell_type": "code",
   "execution_count": 6,
   "metadata": {},
   "outputs": [
    {
     "data": {
      "text/html": [
       "<h3 style='color: black'>Задание 1 - Часть 2</h3>"
      ],
      "text/plain": [
       "<h3 style='color: black'>Задание 1 - Часть 2</h3>"
      ]
     },
     "execution_count": 6,
     "metadata": {},
     "output_type": "execute_result"
    }
   ],
   "source": [
    "html(\"<h3 style='color: black'>Задание 1 - Часть 2</h3>\")"
   ]
  },
  {
   "cell_type": "code",
   "execution_count": 7,
   "metadata": {},
   "outputs": [],
   "source": [
    "y = ln(x - 1) / (x - 1)^2"
   ]
  },
  {
   "cell_type": "code",
   "execution_count": 8,
   "metadata": {},
   "outputs": [
    {
     "data": {
      "text/html": [
       "<html><script type=\"math/tex; mode=display\">\\newcommand{\\Bold}[1]{\\mathbf{#1}}\\frac{\\log\\left(x - 1\\right)}{{\\left(x - 1\\right)}^{2}}</script></html>"
      ],
      "text/latex": [
       "\\begin{math}\n",
       "\\newcommand{\\Bold}[1]{\\mathbf{#1}}\\frac{\\log\\left(x - 1\\right)}{{\\left(x - 1\\right)}^{2}}\n",
       "\\end{math}"
      ],
      "text/plain": [
       "log(x - 1)/(x - 1)^2"
      ]
     },
     "metadata": {},
     "output_type": "display_data"
    }
   ],
   "source": [
    "show(y)"
   ]
  },
  {
   "cell_type": "code",
   "execution_count": 9,
   "metadata": {},
   "outputs": [
    {
     "data": {
      "image/png": "[encoded data removed]",
      "text/plain": [
       "Graphics object consisting of 1 graphics primitive"
      ]
     },
     "execution_count": 9,
     "metadata": {},
     "output_type": "execute_result"
    }
   ],
   "source": [
    "plot(y, (x, 1-1e-6, 5), ymin = -5, ymax = 1)"
   ]
  },
  {
   "cell_type": "code",
   "execution_count": 10,
   "metadata": {},
   "outputs": [
    {
     "data": {
      "text/html": [
       "<h4 style='color: black'>1. Область определения функции</h4>"
      ],
      "text/plain": [
       "<h4 style='color: black'>1. Область определения функции</h4>"
      ]
     },
     "execution_count": 10,
     "metadata": {},
     "output_type": "execute_result"
    }
   ],
   "source": [
    "html(\"<h4 style='color: black'>1. Область определения функции</h4>\")"
   ]
  },
  {
   "cell_type": "code",
   "execution_count": 11,
   "metadata": {},
   "outputs": [
    {
     "data": {
      "text/plain": [
       "[x > 1]"
      ]
     },
     "execution_count": 11,
     "metadata": {},
     "output_type": "execute_result"
    }
   ],
   "source": [
    "var('x')\n",
    "eq1 = x\n",
    "D = solve((x - 1)^2 != 0 and (x - 1) > 0, x , algorithm='sympy')\n",
    "D"
   ]
  },
  {
   "cell_type": "markdown",
   "metadata": {},
   "source": [
    "(x - 1)^2 $\\neq$ 0 && x - 1 > 0<br>\n",
    "D: x > 1"
   ]
  },
  {
   "cell_type": "code",
   "execution_count": 12,
   "metadata": {},
   "outputs": [
    {
     "data": {
      "text/html": [
       "<h4 style='color: black'>2. Четность/нечетность. Периодичность</h4>"
      ],
      "text/plain": [
       "<h4 style='color: black'>2. Четность/нечетность. Периодичность</h4>"
      ]
     },
     "execution_count": 12,
     "metadata": {},
     "output_type": "execute_result"
    }
   ],
   "source": [
    "html(\"<h4 style='color: black'>2. Четность/нечетность. Периодичность</h4>\")"
   ]
  },
  {
   "cell_type": "code",
   "execution_count": 13,
   "metadata": {},
   "outputs": [
    {
     "data": {
      "text/plain": [
       "log(x - 1)/(x - 1)^2"
      ]
     },
     "execution_count": 13,
     "metadata": {},
     "output_type": "execute_result"
    }
   ],
   "source": [
    "y(x)"
   ]
  },
  {
   "cell_type": "code",
   "execution_count": 14,
   "metadata": {},
   "outputs": [
    {
     "data": {
      "text/plain": [
       "log(-x - 1)/(x + 1)^2"
      ]
     },
     "execution_count": 14,
     "metadata": {},
     "output_type": "execute_result"
    }
   ],
   "source": [
    "y(-x)"
   ]
  },
  {
   "cell_type": "code",
   "execution_count": 15,
   "metadata": {},
   "outputs": [
    {
     "data": {
      "text/plain": [
       "-log(-x - 1)/(x^2 + 2*x + 1) + log(x - 1)/(x - 1)^2"
      ]
     },
     "execution_count": 15,
     "metadata": {},
     "output_type": "execute_result"
    }
   ],
   "source": [
    "y(x) - y(-x).expand().simplify()"
   ]
  },
  {
   "cell_type": "markdown",
   "metadata": {},
   "source": [
    "Функция нечетная"
   ]
  },
  {
   "cell_type": "code",
   "execution_count": 16,
   "metadata": {},
   "outputs": [],
   "source": [
    "var(\"x T\")\n",
    "eq1 = y(x) - y(x + T)"
   ]
  },
  {
   "cell_type": "code",
   "execution_count": 17,
   "metadata": {},
   "outputs": [
    {
     "data": {
      "text/plain": [
       "(2*(T - 1)*x*log(x - 1) + x^2*log(x - 1) - (x^2 - 2*x + 1)*log(T + x - 1) + (T^2 - 2*T + 1)*log(x - 1))/(2*(T - 2)*x^3 + x^4 + (T^2 - 6*T + 6)*x^2 + T^2 - 2*(T^2 - 3*T + 2)*x - 2*T + 1)"
      ]
     },
     "execution_count": 17,
     "metadata": {},
     "output_type": "execute_result"
    }
   ],
   "source": [
    "eq1.simplify_full()"
   ]
  },
  {
   "cell_type": "code",
   "execution_count": 18,
   "metadata": {},
   "outputs": [],
   "source": [
    "eq1 = _"
   ]
  },
  {
   "cell_type": "code",
   "execution_count": 19,
   "metadata": {},
   "outputs": [
    {
     "data": {
      "text/html": [
       "<html><script type=\"math/tex; mode=display\">\\newcommand{\\Bold}[1]{\\mathbf{#1}}\\frac{2 \\, {\\left(T - 1\\right)} x \\log\\left(x - 1\\right) + x^{2} \\log\\left(x - 1\\right) - {\\left(x^{2} - 2 \\, x + 1\\right)} \\log\\left(T + x - 1\\right) + {\\left(T^{2} - 2 \\, T + 1\\right)} \\log\\left(x - 1\\right)}{2 \\, {\\left(T - 2\\right)} x^{3} + x^{4} + {\\left(T^{2} - 6 \\, T + 6\\right)} x^{2} + T^{2} - 2 \\, {\\left(T^{2} - 3 \\, T + 2\\right)} x - 2 \\, T + 1}</script></html>"
      ],
      "text/latex": [
       "\\begin{math}\n",
       "\\newcommand{\\Bold}[1]{\\mathbf{#1}}\\frac{2 \\, {\\left(T - 1\\right)} x \\log\\left(x - 1\\right) + x^{2} \\log\\left(x - 1\\right) - {\\left(x^{2} - 2 \\, x + 1\\right)} \\log\\left(T + x - 1\\right) + {\\left(T^{2} - 2 \\, T + 1\\right)} \\log\\left(x - 1\\right)}{2 \\, {\\left(T - 2\\right)} x^{3} + x^{4} + {\\left(T^{2} - 6 \\, T + 6\\right)} x^{2} + T^{2} - 2 \\, {\\left(T^{2} - 3 \\, T + 2\\right)} x - 2 \\, T + 1}\n",
       "\\end{math}"
      ],
      "text/plain": [
       "(2*(T - 1)*x*log(x - 1) + x^2*log(x - 1) - (x^2 - 2*x + 1)*log(T + x - 1) + (T^2 - 2*T + 1)*log(x - 1))/(2*(T - 2)*x^3 + x^4 + (T^2 - 6*T + 6)*x^2 + T^2 - 2*(T^2 - 3*T + 2)*x - 2*T + 1)"
      ]
     },
     "metadata": {},
     "output_type": "display_data"
    }
   ],
   "source": [
    "show(eq1)"
   ]
  },
  {
   "cell_type": "code",
   "execution_count": 20,
   "metadata": {},
   "outputs": [
    {
     "data": {
      "text/plain": [
       "-1/4*log(2)"
      ]
     },
     "execution_count": 20,
     "metadata": {},
     "output_type": "execute_result"
    }
   ],
   "source": [
    "eq1(x=2, T=1)"
   ]
  },
  {
   "cell_type": "code",
   "execution_count": 21,
   "metadata": {},
   "outputs": [],
   "source": [
    "eq1 = y(x) - y(x + T)"
   ]
  },
  {
   "cell_type": "code",
   "execution_count": 22,
   "metadata": {},
   "outputs": [
    {
     "data": {
      "text/plain": [
       "[T == -(x*log(x - 1) + sqrt(log(T + x - 1)*log(x - 1))*(x - 1) - log(x - 1))/log(x - 1), T == -(x*log(x - 1) - sqrt(log(T + x - 1)*log(x - 1))*(x - 1) - log(x - 1))/log(x - 1)]"
      ]
     },
     "execution_count": 22,
     "metadata": {},
     "output_type": "execute_result"
    }
   ],
   "source": [
    "solve(eq1, T)"
   ]
  },
  {
   "cell_type": "markdown",
   "metadata": {},
   "source": [
    "Функция непериодическая"
   ]
  },
  {
   "cell_type": "code",
   "execution_count": 23,
   "metadata": {},
   "outputs": [
    {
     "data": {
      "text/html": [
       "<h4 style='color: black'>3. Точки пересечения графика с осями координат</h4>"
      ],
      "text/plain": [
       "<h4 style='color: black'>3. Точки пересечения графика с осями координат</h4>"
      ]
     },
     "execution_count": 23,
     "metadata": {},
     "output_type": "execute_result"
    }
   ],
   "source": [
    "html(\"<h4 style='color: black'>3. Точки пересечения графика с осями координат</h4>\")"
   ]
  },
  {
   "cell_type": "code",
   "execution_count": 24,
   "metadata": {},
   "outputs": [
    {
     "data": {
      "text/plain": [
       "I*pi"
      ]
     },
     "execution_count": 24,
     "metadata": {},
     "output_type": "execute_result"
    }
   ],
   "source": [
    "y(0)"
   ]
  },
  {
   "cell_type": "code",
   "execution_count": 25,
   "metadata": {},
   "outputs": [
    {
     "data": {
      "text/plain": [
       "[x == 2]"
      ]
     },
     "execution_count": 25,
     "metadata": {},
     "output_type": "execute_result"
    }
   ],
   "source": [
    "x = var('x')\n",
    "solve(ln(x - 1) / (x - 1)^2, x)"
   ]
  },
  {
   "cell_type": "markdown",
   "metadata": {},
   "source": [
    "x = 2 - единственная(действительная) точка пересечения графика функции с осью ОХ<br>\n",
    "y = I*pi - мнимая точка пересечения графика(мнимой части) функции с осью ОY(не рассматриваем)<br>"
   ]
  },
  {
   "cell_type": "code",
   "execution_count": 26,
   "metadata": {},
   "outputs": [
    {
     "data": {
      "text/html": [
       "<h4 style='color: black'>4. Промежутки знакопостоянства</h4>"
      ],
      "text/plain": [
       "<h4 style='color: black'>4. Промежутки знакопостоянства</h4>"
      ]
     },
     "execution_count": 26,
     "metadata": {},
     "output_type": "execute_result"
    }
   ],
   "source": [
    "html(\"<h4 style='color: black'>4. Промежутки знакопостоянства</h4>\")"
   ]
  },
  {
   "cell_type": "code",
   "execution_count": 27,
   "metadata": {},
   "outputs": [
    {
     "data": {
      "text/plain": [
       "[[log(x - 1) > 0, x - 1 != 0]]"
      ]
     },
     "execution_count": 27,
     "metadata": {},
     "output_type": "execute_result"
    }
   ],
   "source": [
    "solve(y(x)>0,x)"
   ]
  },
  {
   "cell_type": "code",
   "execution_count": 28,
   "metadata": {},
   "outputs": [
    {
     "data": {
      "text/plain": [
       "[[-log(x - 1) > 0, x - 1 != 0]]"
      ]
     },
     "execution_count": 28,
     "metadata": {},
     "output_type": "execute_result"
    }
   ],
   "source": [
    "solve(y(x)<0,x)"
   ]
  },
  {
   "cell_type": "code",
   "execution_count": 29,
   "metadata": {},
   "outputs": [
    {
     "data": {
      "image/png": "[encoded data removed]",
      "text/plain": [
       "Graphics object consisting of 8 graphics primitives"
      ]
     },
     "metadata": {},
     "output_type": "display_data"
    }
   ],
   "source": [
    "# отрисовка отрезка - основная линия для графика промежутков знакопостоянства\n",
    "intervals_of_constancy = plot(0, xmin=-1, xmax=4, ymin=-0.3, ymax=0.3, aspect_ratio = 2)\n",
    "\n",
    "# добавление красных маркеров - отметки точек\\маркеров\n",
    "intervals_of_constancy  += point((1, 0), color=\"red\", size=30, zorder=10)\n",
    "intervals_of_constancy  += point((2, 0), color=\"red\", size=30,  zorder=10)\n",
    "\n",
    "# здесь добавляем подписи точек (значения по оси X)\n",
    "intervals_of_constancy  += text(\"$1$\", (1, -0.1), color=\"black\", fontsize=14)\n",
    "intervals_of_constancy  += text(\"$2$\", (2, -0.1), color=\"black\", fontsize=14)\n",
    "\n",
    "# Здесь добавляем подписи знаков промежутков знакопостоянства\n",
    "y_margin = 0.1  # смещение по оси Y элемента подписи, чтобы он не наслаивался на линию\n",
    "intervals_of_constancy  += text(\"не существует\", (0 , y_margin), color=\"black\", fontsize=15) \n",
    "intervals_of_constancy  += text(\"-\", (1.5 , y_margin), color=\"black\", fontsize=15)\n",
    "intervals_of_constancy  += text(\"+\", (3 , y_margin), color=\"black\", fontsize=15)\n",
    "\n",
    "# оси не нужны - скрываем\n",
    "intervals_of_constancy.show(axes=False)"
   ]
  },
  {
   "cell_type": "markdown",
   "metadata": {},
   "source": [
    "y(x) < 0: x ∈ (1; 2)<br>\n",
    "y(x) > 0: x ∈ (2; +∞)<br>"
   ]
  },
  {
   "cell_type": "code",
   "execution_count": 30,
   "metadata": {},
   "outputs": [
    {
     "data": {
      "text/html": [
       "<h4 style='color: black'>6. Точки экстремума и значения в этих точках</h4>"
      ],
      "text/plain": [
       "<h4 style='color: black'>6. Точки экстремума и значения в этих точках</h4>"
      ]
     },
     "execution_count": 30,
     "metadata": {},
     "output_type": "execute_result"
    }
   ],
   "source": [
    "html(\"<h4 style='color: black'>6. Точки экстремума и значения в этих точках</h4>\")"
   ]
  },
  {
   "cell_type": "code",
   "execution_count": 31,
   "metadata": {},
   "outputs": [
    {
     "data": {
      "text/plain": [
       "-2*log(x - 1)/(x - 1)^3 + 1/(x - 1)^3"
      ]
     },
     "execution_count": 31,
     "metadata": {},
     "output_type": "execute_result"
    }
   ],
   "source": [
    "g = diff(y(x), x)\n",
    "g"
   ]
  },
  {
   "cell_type": "code",
   "execution_count": 32,
   "metadata": {},
   "outputs": [
    {
     "data": {
      "text/plain": [
       "[x == e^(1/2) + 1]"
      ]
     },
     "execution_count": 32,
     "metadata": {},
     "output_type": "execute_result"
    }
   ],
   "source": [
    "x = var('x')\n",
    "solve(-2*log(x - 1)/(x - 1)^3 + 1/(x - 1)^3, x)"
   ]
  },
  {
   "cell_type": "code",
   "execution_count": 33,
   "metadata": {
    "scrolled": false
   },
   "outputs": [],
   "source": [
    "y = ln(x - 1) / (x - 1)^2"
   ]
  },
  {
   "cell_type": "code",
   "execution_count": 34,
   "metadata": {
    "scrolled": false
   },
   "outputs": [
    {
     "data": {
      "text/plain": [
       "1/2*e^(-1)"
      ]
     },
     "execution_count": 34,
     "metadata": {},
     "output_type": "execute_result"
    }
   ],
   "source": [
    "y(e^(1/2) + 1)"
   ]
  },
  {
   "cell_type": "markdown",
   "metadata": {},
   "source": [
    "x = e^(1/2) + 1 - точка экстремума<br>\n",
    "y(e^(1/2) + 1) = 1/2*e^(-1) - значение функции в точке экстремума<br>"
   ]
  },
  {
   "cell_type": "code",
   "execution_count": 35,
   "metadata": {},
   "outputs": [
    {
     "data": {
      "text/html": [
       "<h4 style='color: black'>5. Промежутки возрастания и убывания</h4>"
      ],
      "text/plain": [
       "<h4 style='color: black'>5. Промежутки возрастания и убывания</h4>"
      ]
     },
     "execution_count": 35,
     "metadata": {},
     "output_type": "execute_result"
    }
   ],
   "source": [
    "html(\"<h4 style='color: black'>5. Промежутки возрастания и убывания</h4>\")"
   ]
  },
  {
   "cell_type": "code",
   "execution_count": 36,
   "metadata": {},
   "outputs": [
    {
     "data": {
      "text/plain": [
       "1"
      ]
     },
     "execution_count": 36,
     "metadata": {},
     "output_type": "execute_result"
    }
   ],
   "source": [
    "g(2)"
   ]
  },
  {
   "cell_type": "code",
   "execution_count": 37,
   "metadata": {},
   "outputs": [
    {
     "data": {
      "text/plain": [
       "-1/4*log(2) + 1/8"
      ]
     },
     "execution_count": 37,
     "metadata": {},
     "output_type": "execute_result"
    }
   ],
   "source": [
    "g(3)"
   ]
  },
  {
   "cell_type": "code",
   "execution_count": 38,
   "metadata": {},
   "outputs": [
    {
     "data": {
      "image/png": "[encoded data removed]",
      "text/plain": [
       "Graphics object consisting of 12 graphics primitives"
      ]
     },
     "metadata": {},
     "output_type": "display_data"
    }
   ],
   "source": [
    "# отрисовка отрезка - основная линия для графика промежутков знакопостоянства\n",
    "intervals_of_constancy = plot(0, xmin=0, xmax=4, ymin=-0.5, ymax=0.5, aspect_ratio = 1.75)\n",
    "\n",
    "# добавление красных маркеров - отметки точек\\маркеров\n",
    "intervals_of_constancy  += point((1, 0), color=\"red\", size=30, zorder=10)\n",
    "intervals_of_constancy  += point((2, 0), color=\"firebrick\", size=30,  zorder=10)\n",
    "intervals_of_constancy  += point((3, 0), color=\"firebrick\", size=30,  zorder=10)\n",
    "intervals_of_constancy  += point((e^(1/2) + 1, 0), color=\"red\", size=30,  zorder=10)\n",
    "\n",
    "# здесь добавляем подписи точек (значения по оси X)\n",
    "intervals_of_constancy  += text(\"$1$\", (1, -0.1), color=\"black\", fontsize=14)\n",
    "intervals_of_constancy  += text(\"$2$\", (2, -0.1), color=\"black\", fontsize=14)\n",
    "intervals_of_constancy  += text(\"$3$\", (3, -0.1), color=\"black\", fontsize=14)\n",
    "intervals_of_constancy  += text(\"$xmax$\", (e^(1/2) + 1, -0.1), color=\"black\", fontsize=14)\n",
    "\n",
    "# Здесь добавляем подписи знаков промежутков знакопостоянства\n",
    "y_margin = 0.1  # смещение по оси Y элемента подписи, чтобы он не наслаивался на линию\n",
    "intervals_of_constancy  += text(\"не существует\", (0 , y_margin), color=\"black\", fontsize=15) \n",
    "intervals_of_constancy  += text(\"возрастает\", (1.8 , y_margin), color=\"black\", fontsize=15)\n",
    "intervals_of_constancy  += text(\"убывает\", (3.35 , y_margin), color=\"black\", fontsize=15)\n",
    "\n",
    "# оси не нужны - скрываем\n",
    "intervals_of_constancy.show(axes=False)"
   ]
  },
  {
   "cell_type": "markdown",
   "metadata": {},
   "source": [
    "2 <= 1/2*e^(-1) <= 3<br>\n",
    "Т.к. g(2) > 0 - функция y(x) возрастает на интервале (1, e^(1/2) + 1),<br> g(3) < 0 - функция убывает на интервале (e^(1/2) + 1, +∞)"
   ]
  },
  {
   "cell_type": "code",
   "execution_count": 39,
   "metadata": {},
   "outputs": [
    {
     "data": {
      "text/html": [
       "<h4 style='color: black'>7. Непрерывность. Наличие точек разрыва и их классификация</h4>"
      ],
      "text/plain": [
       "<h4 style='color: black'>7. Непрерывность. Наличие точек разрыва и их классификация</h4>"
      ]
     },
     "execution_count": 39,
     "metadata": {},
     "output_type": "execute_result"
    }
   ],
   "source": [
    "html(\"<h4 style='color: black'>7. Непрерывность. Наличие точек разрыва и их классификация</h4>\")"
   ]
  },
  {
   "cell_type": "markdown",
   "metadata": {},
   "source": [
    "Функция непрерывна на интервале от 1 до +∞.<br> \n",
    "Разрыв возможен только на конце этого интервала, то есть при х = 1.<br> \n",
    "Необходимо найти односторонние пределы.<br>"
   ]
  },
  {
   "cell_type": "code",
   "execution_count": 40,
   "metadata": {},
   "outputs": [
    {
     "data": {
      "text/plain": [
       "Infinity"
      ]
     },
     "execution_count": 40,
     "metadata": {},
     "output_type": "execute_result"
    }
   ],
   "source": [
    "limit(y, x=1+0)"
   ]
  },
  {
   "cell_type": "code",
   "execution_count": 41,
   "metadata": {},
   "outputs": [
    {
     "data": {
      "text/plain": [
       "Infinity"
      ]
     },
     "execution_count": 41,
     "metadata": {},
     "output_type": "execute_result"
    }
   ],
   "source": [
    "limit(y, x=1-0)"
   ]
  },
  {
   "cell_type": "code",
   "execution_count": 42,
   "metadata": {},
   "outputs": [
    {
     "data": {
      "text/plain": [
       "Infinity"
      ]
     },
     "execution_count": 42,
     "metadata": {},
     "output_type": "execute_result"
    }
   ],
   "source": [
    "limit(y, x=1)"
   ]
  },
  {
   "cell_type": "markdown",
   "metadata": {},
   "source": [
    "х = 1 - точка разрыва второго рода"
   ]
  },
  {
   "cell_type": "code",
   "execution_count": 44,
   "metadata": {},
   "outputs": [
    {
     "data": {
      "text/html": [
       "<h4 style='color: black'>8. Асимптоты</h4>"
      ],
      "text/plain": [
       "<h4 style='color: black'>8. Асимптоты</h4>"
      ]
     },
     "execution_count": 44,
     "metadata": {},
     "output_type": "execute_result"
    }
   ],
   "source": [
    "html(\"<h4 style='color: black'>8. Асимптоты</h4>\")"
   ]
  },
  {
   "cell_type": "code",
   "execution_count": 45,
   "metadata": {},
   "outputs": [
    {
     "data": {
      "text/plain": [
       "Infinity"
      ]
     },
     "execution_count": 45,
     "metadata": {},
     "output_type": "execute_result"
    }
   ],
   "source": [
    "limit(y, x=1)"
   ]
  },
  {
   "cell_type": "markdown",
   "metadata": {},
   "source": [
    "x = 1 - вертикальная асимптота"
   ]
  },
  {
   "cell_type": "code",
   "execution_count": 46,
   "metadata": {},
   "outputs": [],
   "source": [
    "t = var('t')"
   ]
  },
  {
   "cell_type": "code",
   "execution_count": 47,
   "metadata": {},
   "outputs": [
    {
     "data": {
      "image/png": "[encoded data removed]",
      "text/plain": [
       "Graphics object consisting of 2 graphics primitives"
      ]
     },
     "execution_count": 47,
     "metadata": {},
     "output_type": "execute_result"
    }
   ],
   "source": [
    "plot(y, (x, 1, 5), ymin=-3, ymax=1) + parametric_plot((1, t), (t, -3, 1), linestyle=\"--\", color = \"gray\") "
   ]
  }
 ],
 "metadata": {
  "kernelspec": {
   "display_name": "SageMath 9.2",
   "language": "sage",
   "name": "sagemath"
  },
  "language_info": {
   "codemirror_mode": {
    "name": "ipython",
    "version": 3
   },
   "file_extension": ".py",
   "mimetype": "text/x-python",
   "name": "python",
   "nbconvert_exporter": "python",
   "pygments_lexer": "ipython3",
   "version": "3.7.7"
  }
 },
 "nbformat": 4,
 "nbformat_minor": 4
}
